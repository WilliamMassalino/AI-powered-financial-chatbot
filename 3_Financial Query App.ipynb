{
 "cells": [
  {
   "cell_type": "markdown",
   "id": "755cd58a-67e4-43bb-b7a4-e40ab757a6bf",
   "metadata": {},
   "source": [
    "## How My Financial Chatbot Works\n",
    "\n",
    "The AI-powered financial chatbot is designed to analyze and retrieve key financial data from corporate 10-K and 10-Q reports. It utilizes Natural Language Processing (NLP) through spaCy to understand user queries, extract relevant information such as company names, financial metrics, and dates, and provide insights based on predefined financial data. The chatbot can handle real-time user inputs, offering instant responses by matching the query to the financial data and returning the requested metrics (e.g., revenue growth, net income, liabilities).\n",
    "\n",
    "## Predefined Queries the Chatbot Can Respond To\n",
    "\n",
    "The chatbot is programmed to respond to various financial queries, such as:\n",
    "\n",
    " * \"What was Tesla’s net income in 2022?\"\n",
    " * \"Show me Apple's asset growth for 2021.\"\n",
    " * \"How did Microsoft's revenue grow in 2023?\"\n",
    " * \"Can you tell me Tesla's cash flow growth for 2023?\"\n",
    " * \"What is Apple's debt to equity ratio for 2022?\"\n",
    "\n",
    "The chatbot can recognize and respond to a range of financial metrics such as revenue growth, net income growth, liabilities growth, asset growth, cash flow growth, and more. It retrieves these metrics dynamically from preloaded datasets for companies like Apple, Tesla, and Microsoft.\n",
    "\n",
    "## Limitations\n",
    "\n",
    "1. Predefined Data Scope: The chatbot relies on static datasets that contain financial information for a limited set of companies and years. It cannot handle queries outside of the available data.\n",
    "\n",
    "2.rase Matching: The chatbot uses rule-based matching via the PhraseMatcher, so it may not understand complex or highly varied queries. It works best with queries that closely match predefined financial terms.\n",
    "\n",
    "3.al-Time Data: The current version does not support real-time financial updates. It uses historical data, and any changes to the data would require manual updates to the dataset.\n",
    "\n",
    "These limitations aside, the chatbot is a powerful tool for providing quick, accurate insights into corporate financial performance."
   ]
  },
  {
   "cell_type": "code",
   "execution_count": 1,
   "id": "cc5f810a-6a4c-4a5d-a5a4-ed3c635dc44a",
   "metadata": {},
   "outputs": [],
   "source": [
    "import pandas as pd\n",
    "\n",
    "# Load your data into pandas DataFrames\n",
    "growth_data = pd.DataFrame({\n",
    "    'Date': ['2021-09-25', '2022-09-24', '2023-09-30', '2021-06-30', '2022-06-30', '2023-06-30', '2021-12-31', '2022-12-31', '2023-12-31'],\n",
    "    'Company': ['Apple Inc.', 'Apple Inc.', 'Apple Inc.', 'Microsoft', 'Microsoft', 'Microsoft', 'Tesla', 'Tesla', 'Tesla'],\n",
    "    'Assets Growth (%)': [None, 0.4994, -0.0488, None, 9.3059, 12.9196, None, 32.5232, 29.4882],\n",
    "    'Cash Flow Growth (%)': [None, 17.41, -9.503, None, 16.0216, -1.6319, None, 28.0682, -9.9701],\n",
    "    'Liabilities Growth (%)': [None, 4.922, -3.8552, None, 3.3928, 3.7595, None, 19.2877, 18.0269],\n",
    "    'Net Income Growth (%)': [None, 5.4109, -2.8135, None, 18.7152, -0.5183, None, 127.505, 19.4409],\n",
    "    'Revenue Growth (%)': [None, 7.7938, -2.8005, None, 17.9561, 6.882, None, 51.3517, 18.7953]\n",
    "})\n",
    "\n",
    "ratios_data = pd.DataFrame({\n",
    "    'Date': ['2021-09-25', '2022-09-24', '2023-09-30', '2021-06-30', '2022-06-30', '2023-06-30', '2021-12-31', '2022-12-31', '2023-12-31'],\n",
    "    'Company': ['Apple Inc.', 'Apple Inc.', 'Apple Inc.', 'Microsoft', 'Microsoft', 'Microsoft', 'Tesla', 'Tesla', 'Tesla'],\n",
    "    'Net Profit Margin (%)': [25.88, 25.31, 25.30, 36.45, 36.68, 34.15, 10.25, 15.41, 15.50],\n",
    "    'Return on Assets (ROA) (%)': [26.97, 28.29, 27.51, 18.36, 19.94, 17.56, 8.88, 15.25, 14.07],\n",
    "    'Debt to Assets Ratio (%)': [82.03, 85.64, 82.37, 57.46, 54.35, 49.94, 49.17, 44.26, 40.34],\n",
    "    'Equity to Assets Ratio (%)': [17.97, 14.36, 17.63, 42.54, 45.65, 50.06, 50.83, 55.74, 59.66],\n",
    "    'Debt to Equity Ratio': [4.56, 5.96, 4.67, 1.35, 1.19, 0.99, 0.97, 0.79, 0.68],\n",
    "    'Operating Cash Flow to Revenue Ratio (%)': [28.44, 30.98, 28.84, 45.65, 44.91, 41.33, 21.36, 18.07, 13.70],\n",
    "})\n"
   ]
  },
  {
   "cell_type": "code",
   "execution_count": 10,
   "id": "3f18ada0-6072-4255-9040-cf04b7052e03",
   "metadata": {},
   "outputs": [
    {
     "data": {
      "application/vnd.jupyter.widget-view+json": {
       "model_id": "b65b70dffed8416ebaf887d219535d68",
       "version_major": 2,
       "version_minor": 0
      },
      "text/plain": [
       "HTML(value='<b>Available Companies:</b> Apple Inc., Microsoft, Tesla<br><b>Available Years:</b> 2021, 2022, 20…"
      ]
     },
     "metadata": {},
     "output_type": "display_data"
    },
    {
     "data": {
      "application/vnd.jupyter.widget-view+json": {
       "model_id": "b7c1b22b38594ec49535b3d83f2258e9",
       "version_major": 2,
       "version_minor": 0
      },
      "text/plain": [
       "Dropdown(description='Example Queries:', options=(\"What was Tesla's net income growth in 2022?\", \"How much did…"
      ]
     },
     "metadata": {},
     "output_type": "display_data"
    },
    {
     "data": {
      "application/vnd.jupyter.widget-view+json": {
       "model_id": "0016ef16d69d469ca3d0d827fbebeee8",
       "version_major": 2,
       "version_minor": 0
      },
      "text/plain": [
       "Text(value='', description='Query:', style=TextStyle(description_width='initial'))"
      ]
     },
     "metadata": {},
     "output_type": "display_data"
    },
    {
     "data": {
      "application/vnd.jupyter.widget-view+json": {
       "model_id": "fdd91a55f16142b19d4955b2564be032",
       "version_major": 2,
       "version_minor": 0
      },
      "text/plain": [
       "Button(description='Submit', style=ButtonStyle())"
      ]
     },
     "metadata": {},
     "output_type": "display_data"
    },
    {
     "data": {
      "application/vnd.jupyter.widget-view+json": {
       "model_id": "07e17e25e8c743c69d40596bb631256b",
       "version_major": 2,
       "version_minor": 0
      },
      "text/plain": [
       "Output()"
      ]
     },
     "metadata": {},
     "output_type": "display_data"
    }
   ],
   "source": [
    "import ipywidgets as widgets\n",
    "from IPython.display import display, clear_output\n",
    "import spacy\n",
    "from spacy.matcher import PhraseMatcher\n",
    "\n",
    "# Load spaCy's English NLP model\n",
    "nlp = spacy.load(\"en_core_web_sm\")\n",
    "\n",
    "# Normalize text (remove special characters like curly apostrophes)\n",
    "def normalize_text(text):\n",
    "    return text.replace(\"’\", \"'\")\n",
    "\n",
    "# List of known companies\n",
    "known_companies = [\"Tesla\", \"Apple\", \"Microsoft\"]\n",
    "\n",
    "# Extract financial terms (dynamically from your DataFrame columns)\n",
    "growth_columns = [col for col in growth_data.columns if col not in ['Company', 'Date']]\n",
    "ratios_columns = [col for col in ratios_data.columns if col not in ['Company', 'Date']]\n",
    "all_columns = growth_columns + ratios_columns\n",
    "financial_terms = [col.replace(\"_\", \" \").replace(\"(%)\", \"\").strip().lower() for col in all_columns]\n",
    "\n",
    "# Initialize the matcher for financial terms\n",
    "matcher = PhraseMatcher(nlp.vocab)\n",
    "patterns = [nlp.make_doc(term) for term in financial_terms]\n",
    "matcher.add(\"FIN_TERMS\", patterns)\n",
    "\n",
    "# Function to extract entities from the query\n",
    "def extract_entities_from_query(query):\n",
    "    # Normalize the query to handle apostrophes\n",
    "    query = normalize_text(query)\n",
    "    \n",
    "    # Process query through the NLP pipeline\n",
    "    doc = nlp(query)\n",
    "    \n",
    "    # Initialize variables\n",
    "    company = None\n",
    "    year = None\n",
    "    metric = None\n",
    "    \n",
    "    # Identify company using a list of known companies\n",
    "    for token in doc:\n",
    "        if token.text in known_companies:\n",
    "            company = token.text\n",
    "    \n",
    "    # Identify year using spaCy's entity recognition (DATE label)\n",
    "    for ent in doc.ents:\n",
    "        if ent.label_ == 'DATE':  # Year\n",
    "            year = ent.text.strip()\n",
    "    \n",
    "    # Use PhraseMatcher to find the financial term (metric) in the query\n",
    "    matches = matcher(doc)\n",
    "    for match_id, start, end in matches:\n",
    "        metric = doc[start:end].text.lower()  # Match the financial term\n",
    "    \n",
    "    # Debugging: print what we extracted\n",
    "    print(f\"Extracted company: {company}, metric: {metric}, year: {year}\")\n",
    "    \n",
    "    return company, metric, year\n",
    "\n",
    "def get_financial_metric(company, metric, year, growth_data, ratios_data):\n",
    "    # Convert the metric to a column name format (reverse the cleanup process)\n",
    "    column_map = {\n",
    "        'revenue growth': 'Revenue Growth (%)',\n",
    "        'net income growth': 'Net Income Growth (%)',\n",
    "        'liabilities growth': 'Liabilities Growth (%)',\n",
    "        'assets growth': 'Assets Growth (%)',\n",
    "        'cash flow growth': 'Cash Flow Growth (%)',\n",
    "        'net profit margin': 'Net Profit Margin (%)',\n",
    "        'return on assets (roa)': 'Return on Assets (ROA) (%)',\n",
    "        'debt to assets ratio': 'Debt to Assets Ratio (%)',\n",
    "        'equity to assets ratio': 'Equity to Assets Ratio (%)',\n",
    "        'debt to equity ratio': 'Debt to Equity Ratio',\n",
    "        'operating cash flow to revenue ratio': 'Operating Cash Flow to Revenue Ratio (%)',\n",
    "    }\n",
    "    \n",
    "    # Look for the correct column in the data\n",
    "    column_name = column_map.get(metric)\n",
    "    \n",
    "    if column_name is None:\n",
    "        return \"Metric not recognized.\"\n",
    "    \n",
    "    try:\n",
    "        # Convert the Date column to just the year for comparison\n",
    "        growth_data['Year'] = pd.to_datetime(growth_data['Date']).dt.year\n",
    "        ratios_data['Year'] = pd.to_datetime(ratios_data['Date']).dt.year\n",
    "        \n",
    "        # Check first in growth_data\n",
    "        if column_name in growth_data.columns:\n",
    "            print(f\"Looking for {company} {metric} in {year} in growth_data...\")\n",
    "            result = growth_data[(growth_data['Company'].str.contains(company, case=False)) & (growth_data['Year'] == int(year))]\n",
    "            \n",
    "            if not result.empty:\n",
    "                value = result[column_name].values[0]\n",
    "                return f\"{company} {metric} in {year}: {value}\"\n",
    "            else:\n",
    "                print(\"No matching data found in growth_data.\")\n",
    "        \n",
    "        # Check in ratios_data if not found in growth_data\n",
    "        if column_name in ratios_data.columns:\n",
    "            print(f\"Looking for {company} {metric} in {year} in ratios_data...\")\n",
    "            result = ratios_data[(ratios_data['Company'].str.contains(company, case=False)) & (ratios_data['Year'] == int(year))]\n",
    "            \n",
    "            if not result.empty:\n",
    "                value = result[column_name].values[0]\n",
    "                return f\"{company} {metric} in {year}: {value}\"\n",
    "            else:\n",
    "                print(\"No matching data found in ratios_data.\")\n",
    "        \n",
    "    except KeyError as e:\n",
    "        print(f\"KeyError: {e}\")\n",
    "        return \"Data not available for this query.\"\n",
    "    \n",
    "    return \"No data found for the specified query.\"\n",
    "\n",
    "# Create widgets\n",
    "query_input = widgets.Text(description=\"Query:\", style={'description_width': 'initial'})\n",
    "submit_button = widgets.Button(description=\"Submit\")\n",
    "output = widgets.Output()\n",
    "\n",
    "# Example queries\n",
    "example_queries = [\n",
    "    \"What was Tesla's net income growth in 2022?\",\n",
    "    \"How much did Apple's revenue growth in 2022?\",\n",
    "    \"Show me Microsoft's liabilities growth for 2023.\",\n",
    "    \"What is Apple's assets growth in 2022?\",\n",
    "    \"Can you tell me Tesla’s cash flow growth for 2023?\",\n",
    "    \"What was Microsoft's return on assets (roa) in 2022?\",\n",
    "    \"Give me the net profit margin for Tesla in 2021.\",\n",
    "    \"How did Apple's operating cash flow to revenue ratio change in 2023?\",\n",
    "    \"What is the debt to equity ratio for Microsoft in 2022?\",\n",
    "    \"Show the liabilities growth for Tesla in 2023.\"\n",
    "]\n",
    "\n",
    "example_dropdown = widgets.Dropdown(\n",
    "    options=example_queries,\n",
    "    description='Example Queries:',\n",
    "    style={'description_width': 'initial'}\n",
    ")\n",
    "\n",
    "# Info text\n",
    "info_text = widgets.HTML(\n",
    "    value=f\"<b>Available Companies:</b> {', '.join(companies)}<br>\"\n",
    "          f\"<b>Available Years:</b> {', '.join(map(str, years))}\"\n",
    ")\n",
    "\n",
    "def on_submit_button_clicked(b):\n",
    "    with output:\n",
    "        clear_output()\n",
    "        query = query_input.value\n",
    "        company, metric, year = extract_entities_from_query(query)\n",
    "        if company and metric and year:\n",
    "            response = get_financial_metric(company, metric, year, growth_data, ratios_data)\n",
    "            print(response)\n",
    "        else:\n",
    "            print(f\"Could not extract enough information from query: {query}\")\n",
    "\n",
    "def on_example_selected(change):\n",
    "    query_input.value = change.new\n",
    "\n",
    "submit_button.on_click(on_submit_button_clicked)\n",
    "example_dropdown.observe(on_example_selected, names='value')\n",
    "\n",
    "# Display the app\n",
    "display(info_text)\n",
    "display(example_dropdown)\n",
    "display(query_input)\n",
    "display(submit_button)\n",
    "display(output)"
   ]
  },
  {
   "cell_type": "code",
   "execution_count": null,
   "id": "476d1e6d-1c67-4594-ac2b-d22fcc9d7b43",
   "metadata": {},
   "outputs": [],
   "source": []
  }
 ],
 "metadata": {
  "kernelspec": {
   "display_name": "Python 3 (ipykernel)",
   "language": "python",
   "name": "python3"
  },
  "language_info": {
   "codemirror_mode": {
    "name": "ipython",
    "version": 3
   },
   "file_extension": ".py",
   "mimetype": "text/x-python",
   "name": "python",
   "nbconvert_exporter": "python",
   "pygments_lexer": "ipython3",
   "version": "3.10.12"
  }
 },
 "nbformat": 4,
 "nbformat_minor": 5
}
